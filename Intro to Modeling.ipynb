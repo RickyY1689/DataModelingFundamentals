{
 "cells": [
  {
   "cell_type": "markdown",
   "metadata": {},
   "source": [
    "# Welcome to Jupyter!"
   ]
  },
  {
   "cell_type": "markdown",
   "metadata": {},
   "source": [
    "## Purpose \n",
    "This will go through the process of loading a dataset using pandas and displaying some basic information \n",
    "\n",
    "### Step 1\n",
    "Load the dataset into a Pandas Dataframe!"
   ]
  },
  {
   "cell_type": "code",
   "execution_count": null,
   "metadata": {},
   "outputs": [],
   "source": [
    "import pandas as pd \n",
    "\n",
    "data_file_path = '' # Path to the dataset \n",
    "data = pd.read_csv(data_file_path) # Stores the dataset into a Pandas Dataframe \n",
    "data.columns # This displays all the columns within the dataframe "
   ]
  },
  {
   "cell_type": "markdown",
   "metadata": {},
   "source": [
    "### Step 2\n",
    "Drop the columns that are not relevant to your project. The simpliest solution is to <br/>\n",
    "just drop all the rows with missing data, however this should only be done if you don't think <br/>\n",
    "you'll need them."
   ]
  },
  {
   "cell_type": "code",
   "execution_count": null,
   "metadata": {},
   "outputs": [],
   "source": [
    "data = data.dropna(axis=0) # This is the simpliest "
   ]
  },
  {
   "cell_type": "markdown",
   "metadata": {},
   "source": [
    "### Step 3\n",
    "The next step is to split the dataframe into a features set and a label set. <br/>\n",
    "The label set **(typically notated with y)** includes the columns we want to eventually be able to predict, <br/>\n",
    "the feature set **(typically notated with x)** includes all the columns we feel is in some way related to the <br/>\n",
    "label set and will help our model learn patters between the two. The rest of the columns <br/> \n",
    "are dropped. "
   ]
  },
  {
   "cell_type": "code",
   "execution_count": null,
   "metadata": {},
   "outputs": [],
   "source": [
    "features = [] # A string of the feature columns \n",
    "dataX = data[features]\n",
    "\n",
    "label = \"\" # In this instance we only have one label column \n",
    "dataY =  data.label\n",
    "\n",
    "# We can check our data by calling head which returns the first few values \n",
    "dataX.head() # Should also check dataX.describe() and dataY.describe() to check for missing values \n",
    "dataY.head()"
   ]
  },
  {
   "cell_type": "markdown",
   "metadata": {},
   "source": [
    "### Step 4\n",
    "Split the data into training and testing. "
   ]
  },
  {
   "cell_type": "code",
   "execution_count": null,
   "metadata": {},
   "outputs": [],
   "source": [
    "from sklearn.model_selection import train_test_split\n",
    "\n",
    "train_X, test_X, train_y, test_y = train_test_split(dataX, dataY, random_state = 0)"
   ]
  },
  {
   "cell_type": "markdown",
   "metadata": {},
   "source": [
    "### Step 4\n",
    "Epic! Now it's time to actuall fit our data. We'll do so through **scikit-learn**. <br/>\n",
    "When it comes to building a model there are four steps: <br/>\n",
    "- Define: Specify the model and it's parameters\n",
    "- Fit: Do the actual modeling using a training set \n",
    "- Predict: Apply the model to a testing set\n",
    "- Evaluate: Check the models performance (precision, recall, AP)\n",
    "\n",
    "For this model, we'll be using a decision tree regressor."
   ]
  },
  {
   "cell_type": "code",
   "execution_count": null,
   "metadata": {},
   "outputs": [],
   "source": [
    "from sklearn.tree import DecisionTreeRegressor \n",
    "\n",
    "# This random state ensures we get the same results each run and is considered good practice\n",
    "# Note that the number we assign doesn't have any meaninful translation to model quality\n",
    "model = DecisionTreeRegressor(random_state=1) \n",
    "model.fit(train_X, train_y)"
   ]
  }
 ],
 "metadata": {
  "kernelspec": {
   "display_name": "Python 3",
   "language": "python",
   "name": "python3"
  },
  "language_info": {
   "codemirror_mode": {
    "name": "ipython",
    "version": 3
   },
   "file_extension": ".py",
   "mimetype": "text/x-python",
   "name": "python",
   "nbconvert_exporter": "python",
   "pygments_lexer": "ipython3",
   "version": "3.8.3"
  }
 },
 "nbformat": 4,
 "nbformat_minor": 2
}
